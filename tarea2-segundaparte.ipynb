{
 "cells": [
  {
   "cell_type": "code",
   "execution_count": 1,
   "metadata": {},
   "outputs": [
    {
     "name": "stdout",
     "output_type": "stream",
     "text": [
      "Collecting pyspark\n",
      "  Using cached pyspark-3.5.3-py2.py3-none-any.whl\n",
      "Collecting py4j==0.10.9.7 (from pyspark)\n",
      "  Using cached py4j-0.10.9.7-py2.py3-none-any.whl.metadata (1.5 kB)\n",
      "Using cached py4j-0.10.9.7-py2.py3-none-any.whl (200 kB)\n",
      "Installing collected packages: py4j, pyspark\n",
      "Successfully installed py4j-0.10.9.7 pyspark-3.5.3\n"
     ]
    }
   ],
   "source": [
    "!pip install pyspark"
   ]
  },
  {
   "cell_type": "code",
   "execution_count": 2,
   "metadata": {},
   "outputs": [
    {
     "name": "stdout",
     "output_type": "stream",
     "text": [
      "Collecting google-cloud-bigquery\n",
      "  Downloading google_cloud_bigquery-3.26.0-py2.py3-none-any.whl.metadata (8.7 kB)\n",
      "Collecting google-api-core<3.0.0dev,>=2.11.1 (from google-api-core[grpc]<3.0.0dev,>=2.11.1->google-cloud-bigquery)\n",
      "  Downloading google_api_core-2.21.0-py3-none-any.whl.metadata (2.8 kB)\n",
      "Collecting google-auth<3.0.0dev,>=2.14.1 (from google-cloud-bigquery)\n",
      "  Downloading google_auth-2.35.0-py2.py3-none-any.whl.metadata (4.7 kB)\n",
      "Collecting google-cloud-core<3.0.0dev,>=2.4.1 (from google-cloud-bigquery)\n",
      "  Downloading google_cloud_core-2.4.1-py2.py3-none-any.whl.metadata (2.7 kB)\n",
      "Collecting google-resumable-media<3.0dev,>=2.0.0 (from google-cloud-bigquery)\n",
      "  Downloading google_resumable_media-2.7.2-py2.py3-none-any.whl.metadata (2.2 kB)\n",
      "Requirement already satisfied: packaging>=20.0.0 in ./.venv/lib/python3.10/site-packages (from google-cloud-bigquery) (24.1)\n",
      "Requirement already satisfied: python-dateutil<3.0dev,>=2.7.3 in ./.venv/lib/python3.10/site-packages (from google-cloud-bigquery) (2.9.0.post0)\n",
      "Collecting requests<3.0.0dev,>=2.21.0 (from google-cloud-bigquery)\n",
      "  Using cached requests-2.32.3-py3-none-any.whl.metadata (4.6 kB)\n",
      "Collecting googleapis-common-protos<2.0.dev0,>=1.56.2 (from google-api-core<3.0.0dev,>=2.11.1->google-api-core[grpc]<3.0.0dev,>=2.11.1->google-cloud-bigquery)\n",
      "  Downloading googleapis_common_protos-1.65.0-py2.py3-none-any.whl.metadata (1.5 kB)\n",
      "Collecting protobuf!=3.20.0,!=3.20.1,!=4.21.0,!=4.21.1,!=4.21.2,!=4.21.3,!=4.21.4,!=4.21.5,<6.0.0.dev0,>=3.19.5 (from google-api-core<3.0.0dev,>=2.11.1->google-api-core[grpc]<3.0.0dev,>=2.11.1->google-cloud-bigquery)\n",
      "  Downloading protobuf-5.28.3-cp38-abi3-macosx_10_9_universal2.whl.metadata (592 bytes)\n",
      "Collecting proto-plus<2.0.0dev,>=1.22.3 (from google-api-core<3.0.0dev,>=2.11.1->google-api-core[grpc]<3.0.0dev,>=2.11.1->google-cloud-bigquery)\n",
      "  Downloading proto_plus-1.25.0-py3-none-any.whl.metadata (2.2 kB)\n",
      "Collecting grpcio<2.0dev,>=1.33.2 (from google-api-core[grpc]<3.0.0dev,>=2.11.1->google-cloud-bigquery)\n",
      "  Downloading grpcio-1.67.0-cp310-cp310-macosx_12_0_universal2.whl.metadata (3.9 kB)\n",
      "Collecting grpcio-status<2.0.dev0,>=1.33.2 (from google-api-core[grpc]<3.0.0dev,>=2.11.1->google-cloud-bigquery)\n",
      "  Downloading grpcio_status-1.67.0-py3-none-any.whl.metadata (1.1 kB)\n",
      "Collecting cachetools<6.0,>=2.0.0 (from google-auth<3.0.0dev,>=2.14.1->google-cloud-bigquery)\n",
      "  Downloading cachetools-5.5.0-py3-none-any.whl.metadata (5.3 kB)\n",
      "Collecting pyasn1-modules>=0.2.1 (from google-auth<3.0.0dev,>=2.14.1->google-cloud-bigquery)\n",
      "  Downloading pyasn1_modules-0.4.1-py3-none-any.whl.metadata (3.5 kB)\n",
      "Collecting rsa<5,>=3.1.4 (from google-auth<3.0.0dev,>=2.14.1->google-cloud-bigquery)\n",
      "  Downloading rsa-4.9-py3-none-any.whl.metadata (4.2 kB)\n",
      "Collecting google-crc32c<2.0dev,>=1.0 (from google-resumable-media<3.0dev,>=2.0.0->google-cloud-bigquery)\n",
      "  Downloading google_crc32c-1.6.0-cp310-cp310-macosx_12_0_arm64.whl.metadata (2.3 kB)\n",
      "Requirement already satisfied: six>=1.5 in ./.venv/lib/python3.10/site-packages (from python-dateutil<3.0dev,>=2.7.3->google-cloud-bigquery) (1.16.0)\n",
      "Collecting charset-normalizer<4,>=2 (from requests<3.0.0dev,>=2.21.0->google-cloud-bigquery)\n",
      "  Downloading charset_normalizer-3.4.0-cp310-cp310-macosx_11_0_arm64.whl.metadata (34 kB)\n",
      "Collecting idna<4,>=2.5 (from requests<3.0.0dev,>=2.21.0->google-cloud-bigquery)\n",
      "  Using cached idna-3.10-py3-none-any.whl.metadata (10 kB)\n",
      "Collecting urllib3<3,>=1.21.1 (from requests<3.0.0dev,>=2.21.0->google-cloud-bigquery)\n",
      "  Using cached urllib3-2.2.3-py3-none-any.whl.metadata (6.5 kB)\n",
      "Collecting certifi>=2017.4.17 (from requests<3.0.0dev,>=2.21.0->google-cloud-bigquery)\n",
      "  Using cached certifi-2024.8.30-py3-none-any.whl.metadata (2.2 kB)\n",
      "Collecting pyasn1<0.7.0,>=0.4.6 (from pyasn1-modules>=0.2.1->google-auth<3.0.0dev,>=2.14.1->google-cloud-bigquery)\n",
      "  Downloading pyasn1-0.6.1-py3-none-any.whl.metadata (8.4 kB)\n",
      "Downloading google_cloud_bigquery-3.26.0-py2.py3-none-any.whl (239 kB)\n",
      "Downloading google_api_core-2.21.0-py3-none-any.whl (156 kB)\n",
      "Downloading google_auth-2.35.0-py2.py3-none-any.whl (208 kB)\n",
      "Downloading google_cloud_core-2.4.1-py2.py3-none-any.whl (29 kB)\n",
      "Downloading google_resumable_media-2.7.2-py2.py3-none-any.whl (81 kB)\n",
      "Using cached requests-2.32.3-py3-none-any.whl (64 kB)\n",
      "Downloading cachetools-5.5.0-py3-none-any.whl (9.5 kB)\n",
      "Using cached certifi-2024.8.30-py3-none-any.whl (167 kB)\n",
      "Downloading charset_normalizer-3.4.0-cp310-cp310-macosx_11_0_arm64.whl (120 kB)\n",
      "Downloading google_crc32c-1.6.0-cp310-cp310-macosx_12_0_arm64.whl (30 kB)\n",
      "Downloading googleapis_common_protos-1.65.0-py2.py3-none-any.whl (220 kB)\n",
      "Downloading grpcio-1.67.0-cp310-cp310-macosx_12_0_universal2.whl (10.9 MB)\n",
      "\u001b[2K   \u001b[90m━━━━━━━━━━━━━━━━━━━━━━━━━━━━━━━━━━━━━━━━\u001b[0m \u001b[32m10.9/10.9 MB\u001b[0m \u001b[31m64.9 MB/s\u001b[0m eta \u001b[36m0:00:00\u001b[0m\n",
      "\u001b[?25hDownloading grpcio_status-1.67.0-py3-none-any.whl (14 kB)\n",
      "Using cached idna-3.10-py3-none-any.whl (70 kB)\n",
      "Downloading proto_plus-1.25.0-py3-none-any.whl (50 kB)\n",
      "Downloading protobuf-5.28.3-cp38-abi3-macosx_10_9_universal2.whl (414 kB)\n",
      "Downloading pyasn1_modules-0.4.1-py3-none-any.whl (181 kB)\n",
      "Using cached rsa-4.9-py3-none-any.whl (34 kB)\n",
      "Using cached urllib3-2.2.3-py3-none-any.whl (126 kB)\n",
      "Downloading pyasn1-0.6.1-py3-none-any.whl (83 kB)\n",
      "Installing collected packages: urllib3, pyasn1, protobuf, idna, grpcio, google-crc32c, charset-normalizer, certifi, cachetools, rsa, requests, pyasn1-modules, proto-plus, googleapis-common-protos, google-resumable-media, grpcio-status, google-auth, google-api-core, google-cloud-core, google-cloud-bigquery\n",
      "Successfully installed cachetools-5.5.0 certifi-2024.8.30 charset-normalizer-3.4.0 google-api-core-2.21.0 google-auth-2.35.0 google-cloud-bigquery-3.26.0 google-cloud-core-2.4.1 google-crc32c-1.6.0 google-resumable-media-2.7.2 googleapis-common-protos-1.65.0 grpcio-1.67.0 grpcio-status-1.67.0 idna-3.10 proto-plus-1.25.0 protobuf-5.28.3 pyasn1-0.6.1 pyasn1-modules-0.4.1 requests-2.32.3 rsa-4.9 urllib3-2.2.3\n",
      "Note: you may need to restart the kernel to use updated packages.\n"
     ]
    }
   ],
   "source": [
    "pip install google-cloud-bigquery\n"
   ]
  },
  {
   "cell_type": "code",
   "execution_count": 61,
   "metadata": {},
   "outputs": [
    {
     "data": {
      "text/html": [
       "\n",
       "            <div>\n",
       "                <p><b>SparkSession - in-memory</b></p>\n",
       "                \n",
       "        <div>\n",
       "            <p><b>SparkContext</b></p>\n",
       "\n",
       "            <p><a href=\"http://192.168.0.160:4040\">Spark UI</a></p>\n",
       "\n",
       "            <dl>\n",
       "              <dt>Version</dt>\n",
       "                <dd><code>v3.5.3</code></dd>\n",
       "              <dt>Master</dt>\n",
       "                <dd><code>local[*]</code></dd>\n",
       "              <dt>AppName</dt>\n",
       "                <dd><code>tarea2-grupal-pyspark</code></dd>\n",
       "            </dl>\n",
       "        </div>\n",
       "        \n",
       "            </div>\n",
       "        "
      ],
      "text/plain": [
       "<pyspark.sql.session.SparkSession at 0x110476470>"
      ]
     },
     "execution_count": 61,
     "metadata": {},
     "output_type": "execute_result"
    }
   ],
   "source": [
    "from pyspark.sql import SparkSession\n",
    "from pyspark.sql.types import StructType, StructField, StringType, IntegerType, TimestampType\n",
    "\n",
    "\n",
    "spark = (\n",
    "        SparkSession.builder\n",
    "        .appName(\"tarea2-grupal-pyspark\")\n",
    "        .config(\"spark.executor.memory\",\"2g\")\n",
    "        .getOrCreate()\n",
    ")\n",
    "\n",
    "spark.sparkContext.setLogLevel(\"ERROR\") #ALL, OFF, ERROR, DEBUG, INFO, WARN\n",
    "spark.active()"
   ]
  },
  {
   "cell_type": "code",
   "execution_count": 62,
   "metadata": {},
   "outputs": [],
   "source": [
    "import os\n",
    "os.environ[\"GOOGLE_APPLICATION_CREDENTIALS\"] = \"credential.json\"\n"
   ]
  },
  {
   "cell_type": "code",
   "execution_count": 63,
   "metadata": {},
   "outputs": [],
   "source": [
    "from google.cloud import bigquery\n",
    "\n",
    "project_id = 'alpine-infinity-406103'\n",
    "\n",
    "client = bigquery.Client(project=project_id)\n",
    "\n",
    "\n"
   ]
  },
  {
   "cell_type": "code",
   "execution_count": 64,
   "metadata": {},
   "outputs": [],
   "source": [
    "query = \"\"\"\n",
    "   SELECT * FROM `bigquery-public-data.stackoverflow.posts_questions` limit 10000\n",
    "\"\"\"\n",
    "query_job = client.query(query)\n",
    "results = query_job.result()\n",
    "\n",
    "rows = [dict(row) for row in results]"
   ]
  },
  {
   "cell_type": "code",
   "execution_count": 65,
   "metadata": {},
   "outputs": [],
   "source": [
    "from pyspark.sql.types import StructType, StructField, StringType, IntegerType, TimestampType\n"
   ]
  },
  {
   "cell_type": "code",
   "execution_count": 70,
   "metadata": {},
   "outputs": [],
   "source": [
    "# Define el esquema de los datos\n",
    "schema_questions = StructType([\n",
    "    StructField(\"id\", IntegerType(), True),\n",
    "    StructField(\"title\", StringType(), True),\n",
    "    StructField(\"body\", StringType(), True),\n",
    "    StructField(\"accepted_answer_id\", IntegerType(), True),\n",
    "    StructField(\"answer_count\", IntegerType(), True),\n",
    "    StructField(\"comment_count\", IntegerType(), True),\n",
    "    StructField(\"community_owned_date\", TimestampType(), True),\n",
    "    StructField(\"creation_date\", TimestampType(), True),\n",
    "    StructField(\"favorite_count\", IntegerType(), True),\n",
    "    StructField(\"last_activity_date\", TimestampType(), True),\n",
    "    StructField(\"last_edit_date\", TimestampType(), True),\n",
    "    StructField(\"last_editor_display_name\", StringType(), True),\n",
    "    StructField(\"last_editor_user_id\", IntegerType(), True),\n",
    "    StructField(\"owner_display_name\", StringType(), True),\n",
    "    StructField(\"owner_user_id\", IntegerType(), True),\n",
    "    StructField(\"parent_id\", StringType(), True),\n",
    "    StructField(\"post_type_id\", IntegerType(), True),\n",
    "    StructField(\"score\", IntegerType(), True),\n",
    "    StructField(\"tags\", StringType(), True),\n",
    "    StructField(\"view_count\", IntegerType(), True)\n",
    "])\n"
   ]
  },
  {
   "cell_type": "code",
   "execution_count": 71,
   "metadata": {},
   "outputs": [],
   "source": [
    "df_questions = spark.createDataFrame(rows, schema=schema_questions)\n"
   ]
  },
  {
   "cell_type": "code",
   "execution_count": 72,
   "metadata": {},
   "outputs": [
    {
     "name": "stdout",
     "output_type": "stream",
     "text": [
      "+-------+--------------------+--------------------+------------------+------------+-------------+--------------------+--------------------+--------------+--------------------+--------------------+------------------------+-------------------+------------------+-------------+---------+------------+-----+--------------------+----------+\n",
      "|     id|               title|                body|accepted_answer_id|answer_count|comment_count|community_owned_date|       creation_date|favorite_count|  last_activity_date|      last_edit_date|last_editor_display_name|last_editor_user_id|owner_display_name|owner_user_id|parent_id|post_type_id|score|                tags|view_count|\n",
      "+-------+--------------------+--------------------+------------------+------------+-------------+--------------------+--------------------+--------------+--------------------+--------------------+------------------------+-------------------+------------------+-------------+---------+------------+-----+--------------------+----------+\n",
      "|3227205|how to send more ...|<p>how can i send...|              NULL|           0|            0|                NULL|2010-07-12 05:24:...|             0|2010-07-12 05:52:...|2010-07-12 05:25:...|                    NULL|              47738|              NULL|       386361|     NULL|           1|    0|                html|       116|\n",
      "|3232809|bitshift equivale...|<p>(Math.round(va...|              NULL|           0|            0|                NULL|2010-07-12 18:34:...|             0|2010-07-12 20:00:...|2010-07-12 20:00:...|                    NULL|             354992|              NULL|       354992|     NULL|           1|    0|          javascript|       193|\n",
      "|3233785|Recurrence Relati...|<p>I'm trying to ...|           3233913|           0|            0|                NULL|2010-07-12 22:28:...|             0|2010-07-12 23:38:...|                NULL|                    NULL|               NULL|              NULL|       388991|     NULL|           1|    0|    big-o|recurrence|       528|\n",
      "|3238525|How to add timer ...|<p>Sir i am devel...|              NULL|           0|            0|                NULL|2010-07-13 11:07:...|             0|2010-07-13 13:29:...|                NULL|                    NULL|               NULL|              NULL|       509656|     NULL|           1|    0|     java|blackberry|       402|\n",
      "|3246513|Displaying Timer ...|<p>i want to diap...|              NULL|           0|            0|                NULL|2010-07-14 09:23:...|             0|2010-07-14 09:23:...|                NULL|                    NULL|               NULL|              NULL|       509656|     NULL|           1|    0|     java|blackberry|       191|\n",
      "|3249313|Will a c# \"int\" e...|<blockquote>\\n  <...|              NULL|           0|            0|                NULL|2010-07-14 14:40:...|             0|2010-07-14 16:50:...|2017-05-23 07:47:...|                    NULL|                 -1|              NULL|       391940|     NULL|           1|    0|           c#|64-bit|       485|\n",
      "|3264131|Is it possible to...|<blockquote>\\n  <...|           3264199|           0|            0|                NULL|2010-07-16 07:00:...|             0|2010-07-16 08:41:...|2017-05-23 08:27:...|                    NULL|                 -1|              NULL|       146857|     NULL|           1|    0|  c#|.net|hard-drive|       177|\n",
      "|3264276|Problem with casc...|<p>I have two cas...|              NULL|           0|            2|                NULL|2010-07-16 07:22:...|          NULL|2010-10-04 01:11:...|2010-07-16 07:23:...|                    NULL|              29407|              NULL|       123514|     NULL|           1|    0|c#|asp.net-ajax|a...|      1068|\n",
      "|3269355|perl plotting for...|<p>I have a .csv ...|              NULL|           0|            0|                NULL|2010-07-16 18:46:...|             1|2010-07-16 21:43:...|                NULL|                    NULL|               NULL|              NULL|       391953|     NULL|           1|    0|perl|csv|gnuplot|...|       940|\n",
      "|3269570|Perl: using varia...|<blockquote>\\n  <...|              NULL|           0|            0|                NULL|2010-07-16 19:53:...|             0|2010-07-16 22:03:...|2017-05-23 07:57:...|                    NULL|                 -1|              NULL|       177931|     NULL|           1|    0|regex|perl|eval|s...|       301|\n",
      "|3272329|Above line should...|<p>How do I print...|              NULL|           0|            0|                NULL|2010-07-17 12:34:...|             0|2010-07-18 14:44:...|2010-07-18 14:44:...|                    NULL|              23897|              NULL|       394741|     NULL|           1|    0|                unix|        85|\n",
      "|3293181|custom Php Functi...|<p>custom Php Fun...|              NULL|           0|            0|                NULL|2010-07-20 14:36:...|             0|2012-12-25 01:58:...|2012-12-25 01:58:...|                    NULL|               1288|              NULL|       400440|     NULL|           1|    0|                 php|       103|\n",
      "|3293235|check if input is...|<p>How can i chec...|              NULL|           0|            0|                NULL|2010-07-20 14:43:...|             0|2010-07-20 14:55:...|                NULL|                    NULL|               NULL|              NULL|       267679|     NULL|           1|    0|                  c#|       869|\n",
      "|3296055|convert List<int>...|<blockquote>\\n  <...|              NULL|           0|            0|                NULL|2010-07-20 23:19:...|             0|2010-07-21 09:09:...|2017-05-23 08:11:...|                    NULL|                 -1|              NULL|       397460|     NULL|           1|    0|             asp.net|       189|\n",
      "|3297960|warning: \"IPPROTO...|<p>I am getting t...|              NULL|           0|            0|                NULL|2010-07-21 05:43:...|             0|2010-07-21 07:22:...|2010-07-21 05:46:...|                    NULL|             147192|              NULL|       397763|     NULL|           1|    0|           c++|linux|      1271|\n",
      "|3353310|Getting navigatio...|<p>I have a progr...|              NULL|           0|            0|                NULL|2010-07-28 09:30:...|             0|2010-07-28 09:36:...|                NULL|                    NULL|               NULL|              NULL|       402354|     NULL|           1|    0|iphone|objective-...|       110|\n",
      "|3371251|Changing the back...|<blockquote>\\n  <...|              NULL|           0|            4|                NULL|2010-07-30 08:09:...|          NULL|2010-07-31 00:14:...|2017-05-23 08:11:...|                    NULL|                 -1|              NULL|       406494|     NULL|           1|    0|             android|      1328|\n",
      "|3371822|Is there anything...|<blockquote>\\n  <...|              NULL|           0|            0|                NULL|2010-07-30 09:22:...|             0|2010-07-30 10:28:...|2017-05-23 06:33:...|                    NULL|                 -1|              NULL|       167114|     NULL|           1|    0|           c++|c|oop|       628|\n",
      "|3376520|Should I avoid do...|<blockquote>\\n  <...|              NULL|           0|            0|                NULL|2010-07-30 22:29:...|             0|2010-07-31 02:10:...|2017-05-23 06:33:...|                    NULL|                 -1|              NULL|       338803|     NULL|           1|    0|   language-agnostic|       268|\n",
      "|3391001|What is the equiv...|<blockquote>\\n  <...|           3391053|           0|            0|                NULL|2010-08-02 15:15:...|             0|2010-08-02 15:22:...|2017-05-23 07:47:...|                    NULL|                 -1|              NULL|        61072|     NULL|           1|    0|             svn|git|      6983|\n",
      "+-------+--------------------+--------------------+------------------+------------+-------------+--------------------+--------------------+--------------+--------------------+--------------------+------------------------+-------------------+------------------+-------------+---------+------------+-----+--------------------+----------+\n",
      "only showing top 20 rows\n",
      "\n"
     ]
    }
   ],
   "source": [
    "df_questions.show()"
   ]
  },
  {
   "cell_type": "code",
   "execution_count": 73,
   "metadata": {},
   "outputs": [],
   "source": [
    "query = \"\"\"\n",
    "   SELECT * FROM `bigquery-public-data.stackoverflow.posts_answers` LIMIT 1000\n",
    "\"\"\"\n",
    "query_job = client.query(query)\n",
    "results = query_job.result()\n",
    "\n",
    "rows = [dict(row) for row in results]"
   ]
  },
  {
   "cell_type": "code",
   "execution_count": 76,
   "metadata": {},
   "outputs": [],
   "source": [
    "schema_answers = StructType([\n",
    "    StructField(\"id\", IntegerType(), True),  # INTEGER\n",
    "    StructField(\"title\", StringType(), True),  # STRING\n",
    "    StructField(\"body\", StringType(), True),  # STRING\n",
    "    StructField(\"accepted_answer_id\", StringType(), True),  # STRING\n",
    "    StructField(\"answer_count\", StringType(), True),  # STRING\n",
    "    StructField(\"comment_count\", IntegerType(), True),  # INTEGER\n",
    "    StructField(\"community_owned_date\", TimestampType(), True),  # TIMESTAMP\n",
    "    StructField(\"creation_date\", TimestampType(), True),  # TIMESTAMP\n",
    "    StructField(\"favorite_count\", StringType(), True),  # STRING\n",
    "    StructField(\"last_activity_date\", TimestampType(), True),  # TIMESTAMP\n",
    "    StructField(\"last_edit_date\", TimestampType(), True),  # TIMESTAMP\n",
    "    StructField(\"last_editor_display_name\", StringType(), True),  # STRING\n",
    "    StructField(\"last_editor_user_id\", IntegerType(), True),  # INTEGER\n",
    "    StructField(\"owner_display_name\", StringType(), True),  # STRING\n",
    "    StructField(\"owner_user_id\", IntegerType(), True),  # INTEGER\n",
    "    StructField(\"parent_id\", IntegerType(), True),  # INTEGER\n",
    "    StructField(\"post_type_id\", IntegerType(), True),  # INTEGER\n",
    "    StructField(\"score\", IntegerType(), True),  # INTEGER\n",
    "    StructField(\"tags\", StringType(), True),  # STRING\n",
    "    StructField(\"view_count\", StringType(), True)  # STRING\n",
    "])"
   ]
  },
  {
   "cell_type": "code",
   "execution_count": 77,
   "metadata": {},
   "outputs": [],
   "source": [
    "df_answers = spark.createDataFrame(rows, schema=schema_answers)"
   ]
  },
  {
   "cell_type": "code",
   "execution_count": 78,
   "metadata": {},
   "outputs": [
    {
     "name": "stdout",
     "output_type": "stream",
     "text": [
      "+--------+-----+--------------------+------------------+------------+-------------+--------------------+--------------------+--------------+--------------------+--------------+------------------------+-------------------+------------------+-------------+---------+------------+-----+----+----------+\n",
      "|      id|title|                body|accepted_answer_id|answer_count|comment_count|community_owned_date|       creation_date|favorite_count|  last_activity_date|last_edit_date|last_editor_display_name|last_editor_user_id|owner_display_name|owner_user_id|parent_id|post_type_id|score|tags|view_count|\n",
      "+--------+-----+--------------------+------------------+------------+-------------+--------------------+--------------------+--------------+--------------------+--------------+------------------------+-------------------+------------------+-------------+---------+------------+-----+----+----------+\n",
      "|73248720| NULL|<pre><code>  CAST...|              NULL|        NULL|            0|                NULL|2022-08-05 07:02:...|          NULL|2022-08-05 07:02:...|          NULL|                    NULL|               NULL|              NULL|      7410178| 72830182|           2|    0|NULL|      NULL|\n",
      "|73248721| NULL|<p>Not sure I und...|              NULL|        NULL|            3|                NULL|2022-08-05 07:02:...|          NULL|2022-08-05 07:02:...|          NULL|                    NULL|               NULL|              NULL|     19595490| 73248560|           2|    0|NULL|      NULL|\n",
      "|73248723| NULL|<pre class=\"lang-...|              NULL|        NULL|            1|                NULL|2022-08-05 07:02:...|          NULL|2022-08-05 07:02:...|          NULL|                    NULL|               NULL|              NULL|     16786025| 73248264|           2|    0|NULL|      NULL|\n",
      "|73248738| NULL|<p>I think your i...|              NULL|        NULL|            5|                NULL|2022-08-05 07:03:...|          NULL|2022-08-05 07:03:...|          NULL|                    NULL|               NULL|              NULL|     11085251| 73237008|           2|    0|NULL|      NULL|\n",
      "|73248739| NULL|<p>I think the mo...|              NULL|        NULL|            0|                NULL|2022-08-05 07:03:...|          NULL|2022-08-05 07:03:...|          NULL|                    NULL|               NULL|              NULL|      2049476| 67918503|           2|    0|NULL|      NULL|\n",
      "|73248744| NULL|<p>You want to dy...|              NULL|        NULL|            0|                NULL|2022-08-05 07:04:...|          NULL|2022-08-05 07:04:...|          NULL|                    NULL|               NULL|              NULL|      5003756| 73248617|           2|    0|NULL|      NULL|\n",
      "|73248749| NULL|<p>You can do thi...|              NULL|        NULL|            2|                NULL|2022-08-05 07:04:...|          NULL|2022-08-05 07:04:...|          NULL|                    NULL|               NULL|              NULL|     15515330| 73245972|           2|    0|NULL|      NULL|\n",
      "|73248764| NULL|<p>You can plot s...|              NULL|        NULL|            0|                NULL|2022-08-05 07:05:...|          NULL|2022-08-05 07:05:...|          NULL|                    NULL|               NULL|              NULL|       588071| 73248393|           2|    0|NULL|      NULL|\n",
      "|73248767| NULL|<p>I discussed it...|              NULL|        NULL|            0|                NULL|2022-08-05 07:05:...|          NULL|2022-08-05 07:05:...|          NULL|                    NULL|               NULL|              NULL|      8081556| 73012571|           2|    0|NULL|      NULL|\n",
      "|73248775| NULL|<p>To create the ...|              NULL|        NULL|            2|                NULL|2022-08-05 07:06:...|          NULL|2022-08-05 07:06:...|          NULL|                    NULL|               NULL|              NULL|     10935717| 73235815|           2|    0|NULL|      NULL|\n",
      "|73248779| NULL|<p>I found the an...|              NULL|        NULL|            0|                NULL|2022-08-05 07:06:...|          NULL|2022-08-05 07:06:...|          NULL|                    NULL|               NULL|              NULL|     11829588| 73248778|           2|    0|NULL|      NULL|\n",
      "|73248789| NULL|<p>Achieved using...|              NULL|        NULL|            0|                NULL|2022-08-05 07:07:...|          NULL|2022-08-05 07:07:...|          NULL|                    NULL|               NULL|              NULL|      4841788| 73234332|           2|    0|NULL|      NULL|\n",
      "|73248803| NULL|<p>As per the XML...|              NULL|        NULL|            1|                NULL|2022-08-05 07:08:...|          NULL|2022-08-05 07:08:...|          NULL|                    NULL|               NULL|              NULL|     19698169| 73248578|           2|    0|NULL|      NULL|\n",
      "|73248807| NULL|<p>when you put s...|              NULL|        NULL|            0|                NULL|2022-08-05 07:08:...|          NULL|2022-08-05 07:08:...|          NULL|                    NULL|               NULL|              NULL|     16275384| 73248763|           2|    0|NULL|      NULL|\n",
      "|73248814| NULL|<p>You can reuse ...|              NULL|        NULL|            0|                NULL|2022-08-05 07:09:...|          NULL|2022-08-05 07:09:...|          NULL|                    NULL|               NULL|              NULL|      2764357| 47144961|           2|    0|NULL|      NULL|\n",
      "|73248815| NULL|<p>Found the solu...|              NULL|        NULL|            0|                NULL|2022-08-05 07:09:...|          NULL|2022-08-05 07:09:...|          NULL|                    NULL|               NULL|              NULL|     11043967| 73232251|           2|    0|NULL|      NULL|\n",
      "|73248820| NULL|<p>As from what y...|              NULL|        NULL|            7|                NULL|2022-08-05 07:09:...|          NULL|2022-08-05 07:09:...|          NULL|                    NULL|               NULL|              NULL|     14669745| 73242680|           2|    0|NULL|      NULL|\n",
      "|73248823| NULL|<p>sudo apt-get i...|              NULL|        NULL|            0|                NULL|2022-08-05 07:09:...|          NULL|2022-08-05 07:09:...|          NULL|                    NULL|               NULL|              NULL|     19042428| 24837816|           2|    0|NULL|      NULL|\n",
      "|73248824| NULL|<p>Figured it out...|              NULL|        NULL|            0|                NULL|2022-08-05 07:09:...|          NULL|2022-08-05 07:09:...|          NULL|                    NULL|               NULL|              NULL|       682938| 73243646|           2|    0|NULL|      NULL|\n",
      "|73248833| NULL|<p>Use <code>esca...|              NULL|        NULL|            0|                NULL|2022-08-05 07:10:...|          NULL|2022-08-05 07:10:...|          NULL|                    NULL|               NULL|              NULL|     10522567| 72966877|           2|    0|NULL|      NULL|\n",
      "+--------+-----+--------------------+------------------+------------+-------------+--------------------+--------------------+--------------+--------------------+--------------+------------------------+-------------------+------------------+-------------+---------+------------+-----+----+----------+\n",
      "only showing top 20 rows\n",
      "\n"
     ]
    }
   ],
   "source": [
    "df_answers.show()"
   ]
  },
  {
   "cell_type": "code",
   "execution_count": 79,
   "metadata": {},
   "outputs": [],
   "source": [
    "query = \"\"\"\n",
    "   SELECT * FROM `bigquery-public-data.stackoverflow.users` LIMIT 1000\n",
    "\"\"\"\n",
    "query_job = client.query(query)\n",
    "results = query_job.result()\n",
    "\n",
    "rows = [dict(row) for row in results]"
   ]
  },
  {
   "cell_type": "code",
   "execution_count": 81,
   "metadata": {},
   "outputs": [],
   "source": [
    "schema_users = StructType([\n",
    "    StructField(\"id\", IntegerType(), True),  # INTEGER\n",
    "    StructField(\"display_name\", StringType(), True),  # STRING\n",
    "    StructField(\"about_me\", StringType(), True),  # STRING\n",
    "    StructField(\"age\", StringType(), True),  # STRING\n",
    "    StructField(\"creation_date\", TimestampType(), True),  # TIMESTAMP\n",
    "    StructField(\"last_access_date\", TimestampType(), True),  # TIMESTAMP\n",
    "    StructField(\"location\", StringType(), True),  # STRING\n",
    "    StructField(\"reputation\", IntegerType(), True),  # INTEGER\n",
    "    StructField(\"up_votes\", IntegerType(), True),  # INTEGER\n",
    "    StructField(\"down_votes\", IntegerType(), True),  # INTEGER\n",
    "    StructField(\"views\", IntegerType(), True),  # INTEGER\n",
    "    StructField(\"profile_image_url\", StringType(), True),  # STRING\n",
    "    StructField(\"website_url\", StringType(), True)  # STRING\n",
    "])"
   ]
  },
  {
   "cell_type": "code",
   "execution_count": 82,
   "metadata": {},
   "outputs": [],
   "source": [
    "df_users = spark.createDataFrame(rows, schema=schema_users)"
   ]
  },
  {
   "cell_type": "code",
   "execution_count": 83,
   "metadata": {},
   "outputs": [
    {
     "name": "stdout",
     "output_type": "stream",
     "text": [
      "+-----+-------------------+--------------------+----+--------------------+--------------------+--------------------+----------+--------+----------+-----+--------------------+--------------------+\n",
      "|   id|       display_name|            about_me| age|       creation_date|    last_access_date|            location|reputation|up_votes|down_votes|views|   profile_image_url|         website_url|\n",
      "+-----+-------------------+--------------------+----+--------------------+--------------------+--------------------+----------+--------+----------+-----+--------------------+--------------------+\n",
      "| 1749|            Mikey P|                 meh|NULL|2008-08-18 08:17:...|2018-03-27 15:59:...|         Reading, PA|       439|      10|         0|   51|https://www.grava...|http://www.lician...|\n",
      "| 2310|          Funkatron|<p>Ed Finkler, al...|NULL|2008-08-21 11:15:...|2022-09-23 11:53:...|West Lafayette, I...|       902|      57|         2|  174|                NULL|http://funkatron.com|\n",
      "| 3093|            Dave L.|<h1>SOreadytohelp...|NULL|2008-08-26 11:37:...|2022-09-08 15:03:...|       United States|     43039|     676|        77| 2495|                NULL|                NULL|\n",
      "| 3219|      Danail Nachev|                NULL|NULL|2008-08-27 09:28:...|2021-06-02 21:39:...|Bay Area, CA, Uni...|     18501|     121|         4|  442|                NULL|https://www.linke...|\n",
      "| 4842|        Max Caceres|                NULL|NULL|2008-09-05 18:23:...|2017-10-08 23:31:...|        New York, NY|      1976|     137|         0|  384|                NULL|                NULL|\n",
      "| 8844|       Jeff Hubbard|<p>Extreme genera...|NULL|2008-09-15 12:59:...|2022-06-29 14:57:...|Pleasant Hill, CA...|      9724|     350|        37|  543|                NULL|                NULL|\n",
      "|12192|            EricSch|                NULL|NULL|2008-09-16 09:32:...|2012-12-25 07:57:...|         Switzerland|      1768|       5|         1|   80|                NULL|http://www.bluesw...|\n",
      "|24246|   Buns of Aluminum|<p>I'm a Senior S...|NULL|2008-10-01 14:06:...|2022-09-24 00:29:...|Forest, VA, Unite...|      2439|      36|         2|  408|https://i.stack.i...|                NULL|\n",
      "|29411|Christopher Edwards|                NULL|NULL|2008-10-19 13:41:...|2022-09-23 11:58:...|London, United Ki...|      6561|     401|        12|  802|                NULL|                NULL|\n",
      "|31248|         Evan Byrne|<p>I own and oper...|NULL|2008-10-24 14:01:...|2022-09-23 15:46:...|                NULL|      1063|     914|        14|  174|https://i.stack.i...|https://evanbyrne...|\n",
      "|32303|               Jamo|                NULL|NULL|2008-10-29 06:06:...|2012-10-27 20:42:...|                NULL|      3178|     171|         3|  363|                NULL|                NULL|\n",
      "|39018|     Scott Densmore|<p>I am close to ...|NULL|2008-11-19 14:09:...|2019-11-22 20:24:...|         Redmond, WA|      1449|      13|         0|  158|                NULL|http://scottdensm...|\n",
      "|40843|     ben lemasurier|                NULL|NULL|2008-11-25 19:51:...|2021-04-05 17:30:...|         Boulder, CO|      2582|      98|         7|  216|                NULL|    https://crypt.ly|\n",
      "|53059|            Richard|                NULL|NULL|2009-01-08 16:25:...|2009-02-02 13:46:...|                NULL|       963|      12|         0|   64|                NULL|                NULL|\n",
      "|55729|    Stuart Matheson|                NULL|NULL|2009-01-16 01:21:...|2009-01-29 00:16:...|           Australia|       111|       0|         0|   27|                NULL|                NULL|\n",
      "|57809|         Billbo bug|                NULL|NULL|2009-01-22 04:34:...|2016-08-04 06:42:...|                NULL|       358|       7|         1|   58|                NULL|                NULL|\n",
      "|58634|              royco|                NULL|NULL|2009-01-24 15:14:...|2022-01-28 01:20:...|                NULL|      5299|     249|        16|  434|                NULL|                NULL|\n",
      "|61082|      Jason Livesay|                NULL|NULL|2009-01-31 20:03:...|2009-02-01 04:10:...|                NULL|       336|       0|         0|   71|                NULL|                NULL|\n",
      "|63679|             n00ki3|I am a student at...|NULL|2009-02-07 12:09:...|2010-05-28 12:45:...|Gelsenkirchen, Ge...|     14001|     439|        27|  892|                NULL|   http://www.web.de|\n",
      "|64976|           J. Steen|                NULL|NULL|2009-02-11 06:34:...| 2022-08-31 14:33:31|   Stockholm, Sweden|     15330|     901|      8265| 3944|                NULL|                NULL|\n",
      "+-----+-------------------+--------------------+----+--------------------+--------------------+--------------------+----------+--------+----------+-----+--------------------+--------------------+\n",
      "only showing top 20 rows\n",
      "\n"
     ]
    }
   ],
   "source": [
    "df_users.show()"
   ]
  },
  {
   "cell_type": "code",
   "execution_count": 84,
   "metadata": {},
   "outputs": [],
   "source": [
    "query = \"\"\"\n",
    "   SELECT * FROM `bigquery-public-data.stackoverflow.tags` LIMIT 1000\n",
    "\"\"\"\n",
    "query_job = client.query(query)\n",
    "results = query_job.result()\n",
    "\n",
    "rows = [dict(row) for row in results]"
   ]
  },
  {
   "cell_type": "code",
   "execution_count": 85,
   "metadata": {},
   "outputs": [],
   "source": [
    "schema_tags = StructType([\n",
    "    StructField(\"id\", IntegerType(), True),  # INTEGER\n",
    "    StructField(\"tag_name\", StringType(), True),  # STRING\n",
    "    StructField(\"count\", IntegerType(), True),  # INTEGER\n",
    "    StructField(\"excerpt_post_id\", IntegerType(), True),  # INTEGER\n",
    "    StructField(\"wiki_post_id\", IntegerType(), True)  # INTEGER\n",
    "])"
   ]
  },
  {
   "cell_type": "code",
   "execution_count": 86,
   "metadata": {},
   "outputs": [],
   "source": [
    "df_tags = spark.createDataFrame(rows, schema=schema_tags)\n"
   ]
  },
  {
   "cell_type": "code",
   "execution_count": 87,
   "metadata": {},
   "outputs": [
    {
     "name": "stdout",
     "output_type": "stream",
     "text": [
      "+------+----------------+-----+---------------+------------+\n",
      "|    id|        tag_name|count|excerpt_post_id|wiki_post_id|\n",
      "+------+----------------+-----+---------------+------------+\n",
      "|149358|    announcement|    0|       69362460|    69362459|\n",
      "|  2136|        regsvr32|  256|       10051236|    10051235|\n",
      "|  8287|             rpg|  256|        7080550|     7080549|\n",
      "|  9136|       dbexpress|  256|        7663373|     7663372|\n",
      "|  9213|multiple-domains|  256|       22931444|    22931443|\n",
      "| 11107|       menustrip|  256|       47237574|    47237573|\n",
      "| 15213|      fileserver|  256|        9275976|     9275975|\n",
      "| 25272|       bad-alloc|  256|       14261589|    14261588|\n",
      "| 34059|           pitch|  256|       37258061|    37258060|\n",
      "| 37612|          winrar|  256|       13178390|    13178389|\n",
      "| 41229|     bin-packing|  256|       21865697|    21865696|\n",
      "| 45833|        adaboost|  256|       10243949|    10243948|\n",
      "| 62189|        nslocale|  256|       13765847|    13765846|\n",
      "| 65182|            dbal|  256|       27906512|    27906511|\n",
      "| 66910|      qbytearray|  256|       11935134|    11935133|\n",
      "| 67672|             mmu|  256|        5598781|     5598780|\n",
      "| 79720|         lpsolve|  256|       17310075|    17310074|\n",
      "| 92418|     liferay-aui|  256|       17009161|    17009160|\n",
      "| 94399|   opengl-es-3.0|  256|       17902267|    17902266|\n",
      "| 95028|       charindex|  256|       18394984|    18394983|\n",
      "+------+----------------+-----+---------------+------------+\n",
      "only showing top 20 rows\n",
      "\n"
     ]
    }
   ],
   "source": [
    "df_tags.show()"
   ]
  },
  {
   "cell_type": "markdown",
   "metadata": {},
   "source": [
    "### Registro de Tablas Spark SQL"
   ]
  },
  {
   "cell_type": "code",
   "execution_count": 88,
   "metadata": {},
   "outputs": [],
   "source": [
    "df_questions.createOrReplaceTempView(\"questions_table\")\n",
    "df_users.createOrReplaceTempView(\"users_table\")\n"
   ]
  },
  {
   "cell_type": "code",
   "execution_count": 89,
   "metadata": {},
   "outputs": [],
   "source": [
    "query = \"\"\" \n",
    "    SELECT * FROM questions_table LIMIT 10\n",
    "\"\"\"\n",
    "result_df = spark.sql(query)\n"
   ]
  },
  {
   "cell_type": "code",
   "execution_count": 90,
   "metadata": {},
   "outputs": [
    {
     "name": "stdout",
     "output_type": "stream",
     "text": [
      "+-------+--------------------+--------------------+------------------+------------+-------------+--------------------+--------------------+--------------+--------------------+--------------------+------------------------+-------------------+------------------+-------------+---------+------------+-----+--------------------+----------+\n",
      "|     id|               title|                body|accepted_answer_id|answer_count|comment_count|community_owned_date|       creation_date|favorite_count|  last_activity_date|      last_edit_date|last_editor_display_name|last_editor_user_id|owner_display_name|owner_user_id|parent_id|post_type_id|score|                tags|view_count|\n",
      "+-------+--------------------+--------------------+------------------+------------+-------------+--------------------+--------------------+--------------+--------------------+--------------------+------------------------+-------------------+------------------+-------------+---------+------------+-----+--------------------+----------+\n",
      "|3227205|how to send more ...|<p>how can i send...|              NULL|           0|            0|                NULL|2010-07-12 05:24:...|             0|2010-07-12 05:52:...|2010-07-12 05:25:...|                    NULL|              47738|              NULL|       386361|     NULL|           1|    0|                html|       116|\n",
      "|3232809|bitshift equivale...|<p>(Math.round(va...|              NULL|           0|            0|                NULL|2010-07-12 18:34:...|             0|2010-07-12 20:00:...|2010-07-12 20:00:...|                    NULL|             354992|              NULL|       354992|     NULL|           1|    0|          javascript|       193|\n",
      "|3233785|Recurrence Relati...|<p>I'm trying to ...|           3233913|           0|            0|                NULL|2010-07-12 22:28:...|             0|2010-07-12 23:38:...|                NULL|                    NULL|               NULL|              NULL|       388991|     NULL|           1|    0|    big-o|recurrence|       528|\n",
      "|3238525|How to add timer ...|<p>Sir i am devel...|              NULL|           0|            0|                NULL|2010-07-13 11:07:...|             0|2010-07-13 13:29:...|                NULL|                    NULL|               NULL|              NULL|       509656|     NULL|           1|    0|     java|blackberry|       402|\n",
      "|3246513|Displaying Timer ...|<p>i want to diap...|              NULL|           0|            0|                NULL|2010-07-14 09:23:...|             0|2010-07-14 09:23:...|                NULL|                    NULL|               NULL|              NULL|       509656|     NULL|           1|    0|     java|blackberry|       191|\n",
      "|3249313|Will a c# \"int\" e...|<blockquote>\\n  <...|              NULL|           0|            0|                NULL|2010-07-14 14:40:...|             0|2010-07-14 16:50:...|2017-05-23 07:47:...|                    NULL|                 -1|              NULL|       391940|     NULL|           1|    0|           c#|64-bit|       485|\n",
      "|3264131|Is it possible to...|<blockquote>\\n  <...|           3264199|           0|            0|                NULL|2010-07-16 07:00:...|             0|2010-07-16 08:41:...|2017-05-23 08:27:...|                    NULL|                 -1|              NULL|       146857|     NULL|           1|    0|  c#|.net|hard-drive|       177|\n",
      "|3264276|Problem with casc...|<p>I have two cas...|              NULL|           0|            2|                NULL|2010-07-16 07:22:...|          NULL|2010-10-04 01:11:...|2010-07-16 07:23:...|                    NULL|              29407|              NULL|       123514|     NULL|           1|    0|c#|asp.net-ajax|a...|      1068|\n",
      "|3269355|perl plotting for...|<p>I have a .csv ...|              NULL|           0|            0|                NULL|2010-07-16 18:46:...|             1|2010-07-16 21:43:...|                NULL|                    NULL|               NULL|              NULL|       391953|     NULL|           1|    0|perl|csv|gnuplot|...|       940|\n",
      "|3269570|Perl: using varia...|<blockquote>\\n  <...|              NULL|           0|            0|                NULL|2010-07-16 19:53:...|             0|2010-07-16 22:03:...|2017-05-23 07:57:...|                    NULL|                 -1|              NULL|       177931|     NULL|           1|    0|regex|perl|eval|s...|       301|\n",
      "+-------+--------------------+--------------------+------------------+------------+-------------+--------------------+--------------------+--------------+--------------------+--------------------+------------------------+-------------------+------------------+-------------+---------+------------+-----+--------------------+----------+\n",
      "\n"
     ]
    }
   ],
   "source": [
    "result_df.show()"
   ]
  }
 ],
 "metadata": {
  "kernelspec": {
   "display_name": ".venv",
   "language": "python",
   "name": "python3"
  },
  "language_info": {
   "codemirror_mode": {
    "name": "ipython",
    "version": 3
   },
   "file_extension": ".py",
   "mimetype": "text/x-python",
   "name": "python",
   "nbconvert_exporter": "python",
   "pygments_lexer": "ipython3",
   "version": "3.10.15"
  }
 },
 "nbformat": 4,
 "nbformat_minor": 2
}
